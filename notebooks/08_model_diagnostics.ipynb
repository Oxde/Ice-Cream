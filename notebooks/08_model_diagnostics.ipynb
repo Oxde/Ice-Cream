{
  "cells": [
    {
      "cell_type": "raw",
      "metadata": {
        "vscode": {
          "languageId": "raw"
        }
      },
      "source": [
        "# 📊 Statistical Model Diagnostics\n",
        "\n",
        "**Purpose**: Comprehensive statistical validation of the MMM model\n",
        "\n",
        "**What we'll validate:**\n",
        "- **Multicollinearity**: VIF analysis for all features\n",
        "- **Statistical Significance**: p-values for coefficients\n",
        "- **Residual Analysis**: Normality, homoscedasticity, autocorrelation\n",
        "- **Model Assumptions**: Linearity, independence\n",
        "\n",
        "**Note**: This supplements the Ridge regression analysis with formal statistical tests\n"
      ]
    },
    {
      "cell_type": "code",
      "execution_count": 1,
      "metadata": {},
      "outputs": [
        {
          "ename": "ImportError",
          "evalue": "cannot import name 'durbin_watson' from 'scipy.stats' (/Users/nikmarf/icetest2/Ice-Cream/.venv/lib/python3.12/site-packages/scipy/stats/__init__.py)",
          "output_type": "error",
          "traceback": [
            "\u001b[31m---------------------------------------------------------------------------\u001b[39m",
            "\u001b[31mImportError\u001b[39m                               Traceback (most recent call last)",
            "\u001b[36mCell\u001b[39m\u001b[36m \u001b[39m\u001b[32mIn[1]\u001b[39m\u001b[32m, line 7\u001b[39m\n\u001b[32m      5\u001b[39m \u001b[38;5;28;01mimport\u001b[39;00m\u001b[38;5;250m \u001b[39m\u001b[34;01mseaborn\u001b[39;00m\u001b[38;5;250m \u001b[39m\u001b[38;5;28;01mas\u001b[39;00m\u001b[38;5;250m \u001b[39m\u001b[34;01msns\u001b[39;00m\n\u001b[32m      6\u001b[39m \u001b[38;5;28;01mfrom\u001b[39;00m\u001b[38;5;250m \u001b[39m\u001b[34;01mscipy\u001b[39;00m\u001b[38;5;250m \u001b[39m\u001b[38;5;28;01mimport\u001b[39;00m stats\n\u001b[32m----> \u001b[39m\u001b[32m7\u001b[39m \u001b[38;5;28;01mfrom\u001b[39;00m\u001b[38;5;250m \u001b[39m\u001b[34;01mscipy\u001b[39;00m\u001b[34;01m.\u001b[39;00m\u001b[34;01mstats\u001b[39;00m\u001b[38;5;250m \u001b[39m\u001b[38;5;28;01mimport\u001b[39;00m jarque_bera, shapiro, durbin_watson\n\u001b[32m      8\u001b[39m \u001b[38;5;28;01mimport\u001b[39;00m\u001b[38;5;250m \u001b[39m\u001b[34;01mstatsmodels\u001b[39;00m\u001b[34;01m.\u001b[39;00m\u001b[34;01mapi\u001b[39;00m\u001b[38;5;250m \u001b[39m\u001b[38;5;28;01mas\u001b[39;00m\u001b[38;5;250m \u001b[39m\u001b[34;01msm\u001b[39;00m\n\u001b[32m      9\u001b[39m \u001b[38;5;28;01mfrom\u001b[39;00m\u001b[38;5;250m \u001b[39m\u001b[34;01mstatsmodels\u001b[39;00m\u001b[34;01m.\u001b[39;00m\u001b[34;01mstats\u001b[39;00m\u001b[34;01m.\u001b[39;00m\u001b[34;01moutliers_influence\u001b[39;00m\u001b[38;5;250m \u001b[39m\u001b[38;5;28;01mimport\u001b[39;00m variance_inflation_factor\n",
            "\u001b[31mImportError\u001b[39m: cannot import name 'durbin_watson' from 'scipy.stats' (/Users/nikmarf/icetest2/Ice-Cream/.venv/lib/python3.12/site-packages/scipy/stats/__init__.py)"
          ]
        }
      ],
      "source": [
        "# Import required libraries\n",
        "import pandas as pd\n",
        "import numpy as np\n",
        "import matplotlib.pyplot as plt\n",
        "import seaborn as sns\n",
        "from scipy import stats\n",
        "from scipy.stats import jarque_bera, shapiro, durbin_watson\n",
        "import statsmodels.api as sm\n",
        "from statsmodels.stats.outliers_influence import variance_inflation_factor\n",
        "from statsmodels.stats.diagnostic import het_breuschpagan, het_white\n",
        "from statsmodels.stats.stattools import durbin_watson\n",
        "from sklearn.preprocessing import StandardScaler\n",
        "from sklearn.linear_model import LinearRegression\n",
        "import warnings\n",
        "warnings.filterwarnings('ignore')\n",
        "\n",
        "# Set plotting style\n",
        "plt.style.use('default')\n",
        "sns.set_palette(\"husl\")\n",
        "\n",
        "print(\"📊 MODEL DIAGNOSTICS TOOLKIT LOADED\")\n",
        "print(\"=\" * 40)\n",
        "print(\"✅ Statistical tests: VIF, significance, residuals\")\n",
        "print(\"✅ Diagnostic plots: Q-Q, residual analysis\")\n",
        "print(\"✅ Model assumptions validation\")\n"
      ]
    },
    {
      "cell_type": "raw",
      "metadata": {
        "vscode": {
          "languageId": "raw"
        }
      },
      "source": [
        "## 1. Load and Prepare Data\n",
        "\n",
        "We'll use the same processed data from the final model to ensure consistency.\n"
      ]
    },
    {
      "cell_type": "code",
      "execution_count": null,
      "metadata": {},
      "outputs": [],
      "source": [
        "# Load the processed data (adjust path as needed)\n",
        "try:\n",
        "    # Try to load from the same source as other notebooks\n",
        "    data = pd.read_csv('../data/processed/unified_data_with_weather.csv')\n",
        "    print(\"✅ Data loaded successfully\")\n",
        "except:\n",
        "    print(\"⚠️ Please adjust the data path to match your file structure\")\n",
        "    # Alternative: Create sample data for demonstration\n",
        "    np.random.seed(42)\n",
        "    n_weeks = 120\n",
        "    data = pd.DataFrame({\n",
        "        'sales': np.random.normal(135000, 25000, n_weeks),\n",
        "        'tv_adstock': np.random.normal(5000, 1500, n_weeks),\n",
        "        'digital_adstock': np.random.normal(3000, 800, n_weeks),\n",
        "        'ooh_adstock': np.random.normal(1500, 500, n_weeks),\n",
        "        'print_adstock': np.random.normal(800, 300, n_weeks),\n",
        "        'in_store_promo': np.random.binomial(1, 0.3, n_weeks),\n",
        "        'temperature': np.random.normal(12, 8, n_weeks),\n",
        "        'holiday_flag': np.random.binomial(1, 0.1, n_weeks),\n",
        "        'month_sin': np.sin(2 * np.pi * np.arange(n_weeks) / 52),\n",
        "        'month_cos': np.cos(2 * np.pi * np.arange(n_weeks) / 52)\n",
        "    })\n",
        "    print(\"📝 Using simulated data for demonstration\")\n",
        "\n",
        "print(f\"\\n📊 Dataset Overview:\")\n",
        "print(f\"   Observations: {len(data)}\")\n",
        "print(f\"   Features: {data.shape[1]}\")\n",
        "print(f\"   Missing values: {data.isnull().sum().sum()}\")\n"
      ]
    },
    {
      "cell_type": "code",
      "execution_count": null,
      "metadata": {},
      "outputs": [],
      "source": [
        "# Define feature sets (adjust based on your actual features)\n",
        "media_features = [col for col in data.columns if '_adstock' in col]\n",
        "control_features = ['in_store_promo', 'temperature', 'holiday_flag', 'month_sin', 'month_cos']\n",
        "control_features = [f for f in control_features if f in data.columns]\n",
        "\n",
        "all_features = media_features + control_features\n",
        "target = 'sales'\n",
        "\n",
        "print(f\"\\n🎯 Model Features:\")\n",
        "print(f\"   Media channels: {media_features}\")\n",
        "print(f\"   Control variables: {control_features}\")\n",
        "print(f\"   Total features: {len(all_features)}\")\n",
        "\n",
        "# Prepare feature matrix and target\n",
        "X = data[all_features].fillna(0)\n",
        "y = data[target]\n",
        "\n",
        "print(f\"\\n✅ Data prepared for diagnostics\")\n"
      ]
    },
    {
      "cell_type": "raw",
      "metadata": {
        "vscode": {
          "languageId": "raw"
        }
      },
      "source": [
        "## 2. Multicollinearity Analysis (VIF)\n",
        "\n",
        "**Variance Inflation Factor (VIF)**:\n",
        "- VIF < 5: Low multicollinearity ✅\n",
        "- VIF 5-10: Moderate multicollinearity ⚠️\n",
        "- VIF > 10: High multicollinearity ❌\n"
      ]
    },
    {
      "cell_type": "code",
      "execution_count": null,
      "metadata": {},
      "outputs": [],
      "source": [
        "def calculate_vif(X):\n",
        "    \"\"\"Calculate VIF for all features\"\"\"\n",
        "    # Add constant for VIF calculation\n",
        "    X_with_const = sm.add_constant(X)\n",
        "    \n",
        "    vif_data = pd.DataFrame()\n",
        "    vif_data[\"Feature\"] = X.columns\n",
        "    vif_data[\"VIF\"] = [variance_inflation_factor(X_with_const.values, i+1) \n",
        "                       for i in range(len(X.columns))]\n",
        "    \n",
        "    # Add status\n",
        "    vif_data['Status'] = vif_data['VIF'].apply(\n",
        "        lambda x: '✅ Low' if x < 5 else '⚠️ Moderate' if x < 10 else '❌ High'\n",
        "    )\n",
        "    \n",
        "    return vif_data.sort_values('VIF', ascending=False)\n",
        "\n",
        "# Calculate VIF\n",
        "print(\"🔍 MULTICOLLINEARITY ANALYSIS (VIF)\")\n",
        "print(\"=\" * 40)\n",
        "\n",
        "vif_results = calculate_vif(X)\n",
        "print(vif_results.to_string(index=False))\n",
        "\n",
        "# Summary\n",
        "high_vif = vif_results[vif_results['VIF'] > 10]\n",
        "moderate_vif = vif_results[(vif_results['VIF'] >= 5) & (vif_results['VIF'] <= 10)]\n",
        "low_vif = vif_results[vif_results['VIF'] < 5]\n",
        "\n",
        "print(f\"\\n📊 VIF Summary:\")\n",
        "print(f\"   ✅ Low multicollinearity: {len(low_vif)} features\")\n",
        "print(f\"   ⚠️ Moderate multicollinearity: {len(moderate_vif)} features\")\n",
        "print(f\"   ❌ High multicollinearity: {len(high_vif)} features\")\n",
        "\n",
        "if len(high_vif) > 0:\n",
        "    print(f\"\\n⚠️ High VIF features to consider removing:\")\n",
        "    for _, row in high_vif.iterrows():\n",
        "        print(f\"   - {row['Feature']}: VIF = {row['VIF']:.2f}\")\n"
      ]
    }
  ],
  "metadata": {
    "kernelspec": {
      "display_name": ".venv",
      "language": "python",
      "name": "python3"
    },
    "language_info": {
      "codemirror_mode": {
        "name": "ipython",
        "version": 3
      },
      "file_extension": ".py",
      "mimetype": "text/x-python",
      "name": "python",
      "nbconvert_exporter": "python",
      "pygments_lexer": "ipython3",
      "version": "3.12.7"
    }
  },
  "nbformat": 4,
  "nbformat_minor": 2
}
